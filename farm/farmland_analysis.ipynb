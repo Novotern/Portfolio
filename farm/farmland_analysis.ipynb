{
 "cells": [
  {
   "cell_type": "markdown",
   "id": "afc932e2",
   "metadata": {},
   "source": [
    " NIGERIA FARMLAND APP ANALYSIS\n",
    "\n",
    "This project embarks on an exploration of Nigeria farmland data, with a specific focus on crucial agricultural processes essential for food production sustainability. We aim to unravel the distribution of farm types, identify primary agricultural focuses, and evaluate the prevalence of processing facilities within these agricultural landscapes.\n",
    "\n",
    "Through meticulous analysis and data-driven exploration, we endeavor to provide an overview of farmland data, facilitating informed decision-making, and fostering deeper insights into the intricacies of agricultural systems."
   ]
  },
  {
   "cell_type": "markdown",
   "id": "1d798789",
   "metadata": {},
   "source": [
    "Key Questions Addressed:\n",
    "1. What is the most common source of electricity for farmers?\n",
    "2. Which type of agriculture is mostly practiced by farmers in Nigeria?\n",
    "3. Which farm category serves as the primary focus for agricultural processes?\n",
    "4. How many farms feature a processing facility, and what percentage of total farms does this represent?"
   ]
  },
  {
   "cell_type": "code",
   "execution_count": 10,
   "id": "64ae8b96-62d6-4331-903b-94510ed10f68",
   "metadata": {},
   "outputs": [],
   "source": [
    "\n",
    "import pandas as pd\n",
    "import matplotlib.pyplot as plt\n",
    "import plotly.express as px\n",
    "# import folium\n",
    "# from folium.plugins import MarkerCluster\n",
    "# import geopandas as gpd\n",
    "\n",
    "\n",
    "# Replace 'C:\\Users\\kehin\\Downloads\\farmlands.csv' with the actual path to your CSV file\n",
    "# csv_file_path = \"C:\\Users\\Latitude E7270\\Desktop\\Novotern Internship\\Nigeria-Farmland-App\\farmlands.csv\"\n",
    "\n",
    "# Read CSV file and geojson file into a DataFrame\n",
    "farmland = pd.read_csv(\"farmlands.csv\")\n",
    "# geodata = gpd.read_file(\"farmlands.geojson\")"
   ]
  },
  {
   "cell_type": "code",
   "execution_count": 2,
   "id": "0d4e0715-c838-4a00-8dc9-b04f1ac88082",
   "metadata": {},
   "outputs": [
    {
     "data": {
      "text/html": [
       "<div>\n",
       "<style scoped>\n",
       "    .dataframe tbody tr th:only-of-type {\n",
       "        vertical-align: middle;\n",
       "    }\n",
       "\n",
       "    .dataframe tbody tr th {\n",
       "        vertical-align: top;\n",
       "    }\n",
       "\n",
       "    .dataframe thead th {\n",
       "        text-align: right;\n",
       "    }\n",
       "</style>\n",
       "<table border=\"1\" class=\"dataframe\">\n",
       "  <thead>\n",
       "    <tr style=\"text-align: right;\">\n",
       "      <th></th>\n",
       "      <th>Unnamed: 0</th>\n",
       "      <th>id</th>\n",
       "      <th>state_code</th>\n",
       "      <th>source</th>\n",
       "      <th>name</th>\n",
       "      <th>type</th>\n",
       "      <th>power_source</th>\n",
       "      <th>category</th>\n",
       "      <th>ward_code</th>\n",
       "      <th>processing_facility</th>\n",
       "      <th>global_id</th>\n",
       "      <th>geometry</th>\n",
       "    </tr>\n",
       "  </thead>\n",
       "  <tbody>\n",
       "    <tr>\n",
       "      <th>0</th>\n",
       "      <td>0</td>\n",
       "      <td>u_fc_poi_farm.1</td>\n",
       "      <td>AB</td>\n",
       "      <td>GRID</td>\n",
       "      <td>Bubondu Farm</td>\n",
       "      <td>Commercial</td>\n",
       "      <td>NaN</td>\n",
       "      <td>Mixed Farm</td>\n",
       "      <td>ABSMBL11</td>\n",
       "      <td>NaN</td>\n",
       "      <td>00019378-65ed-41bb-8761-8aa2d8d82072</td>\n",
       "      <td>POINT (7.427875 5.791705)</td>\n",
       "    </tr>\n",
       "    <tr>\n",
       "      <th>1</th>\n",
       "      <td>1</td>\n",
       "      <td>u_fc_poi_farm.2</td>\n",
       "      <td>TA</td>\n",
       "      <td>GRID</td>\n",
       "      <td>Community Farm 2579</td>\n",
       "      <td>Subsistence</td>\n",
       "      <td>NaN</td>\n",
       "      <td>Crop Farm</td>\n",
       "      <td>TRSARD07</td>\n",
       "      <td>NaN</td>\n",
       "      <td>000225c0-3a8c-49ea-b0f7-9324023df2a9</td>\n",
       "      <td>POINT (11.201295 8.6027067)</td>\n",
       "    </tr>\n",
       "    <tr>\n",
       "      <th>2</th>\n",
       "      <td>2</td>\n",
       "      <td>u_fc_poi_farm.3</td>\n",
       "      <td>CR</td>\n",
       "      <td>GRID</td>\n",
       "      <td>Cassava Farm 22</td>\n",
       "      <td>Both</td>\n",
       "      <td>NaN</td>\n",
       "      <td>Unknown</td>\n",
       "      <td>CRSKMM03</td>\n",
       "      <td>NaN</td>\n",
       "      <td>0002da4c-9f53-40ee-bf40-ec064c4dbfd9</td>\n",
       "      <td>POINT (8.7514679 5.9388942)</td>\n",
       "    </tr>\n",
       "    <tr>\n",
       "      <th>3</th>\n",
       "      <td>3</td>\n",
       "      <td>u_fc_poi_farm.4</td>\n",
       "      <td>OS</td>\n",
       "      <td>GRID</td>\n",
       "      <td>Alajagba Palm Oil Plantation Farm</td>\n",
       "      <td>Commercial</td>\n",
       "      <td>NaN</td>\n",
       "      <td>Crop Farm</td>\n",
       "      <td>OSSOUA01</td>\n",
       "      <td>NaN</td>\n",
       "      <td>0005c193-a1a2-472f-b996-896a710373fe</td>\n",
       "      <td>POINT (4.2576267 7.7770233)</td>\n",
       "    </tr>\n",
       "    <tr>\n",
       "      <th>4</th>\n",
       "      <td>4</td>\n",
       "      <td>u_fc_poi_farm.5</td>\n",
       "      <td>CR</td>\n",
       "      <td>GRID</td>\n",
       "      <td>Ojuk Rubber Estate</td>\n",
       "      <td>Commercial</td>\n",
       "      <td>NaN</td>\n",
       "      <td>Crop Farm</td>\n",
       "      <td>CRSKAM08</td>\n",
       "      <td>NaN</td>\n",
       "      <td>000630a0-dd75-41ce-a3e5-9f1f405b0d52</td>\n",
       "      <td>POINT (8.5295567 5.0979367)</td>\n",
       "    </tr>\n",
       "  </tbody>\n",
       "</table>\n",
       "</div>"
      ],
      "text/plain": [
       "   Unnamed: 0               id state_code source  \\\n",
       "0           0  u_fc_poi_farm.1         AB   GRID   \n",
       "1           1  u_fc_poi_farm.2         TA   GRID   \n",
       "2           2  u_fc_poi_farm.3         CR   GRID   \n",
       "3           3  u_fc_poi_farm.4         OS   GRID   \n",
       "4           4  u_fc_poi_farm.5         CR   GRID   \n",
       "\n",
       "                                name         type power_source    category  \\\n",
       "0                       Bubondu Farm   Commercial          NaN  Mixed Farm   \n",
       "1                Community Farm 2579  Subsistence          NaN   Crop Farm   \n",
       "2                    Cassava Farm 22         Both          NaN     Unknown   \n",
       "3  Alajagba Palm Oil Plantation Farm   Commercial          NaN   Crop Farm   \n",
       "4                 Ojuk Rubber Estate   Commercial          NaN   Crop Farm   \n",
       "\n",
       "  ward_code processing_facility                             global_id  \\\n",
       "0  ABSMBL11                 NaN  00019378-65ed-41bb-8761-8aa2d8d82072   \n",
       "1  TRSARD07                 NaN  000225c0-3a8c-49ea-b0f7-9324023df2a9   \n",
       "2  CRSKMM03                 NaN  0002da4c-9f53-40ee-bf40-ec064c4dbfd9   \n",
       "3  OSSOUA01                 NaN  0005c193-a1a2-472f-b996-896a710373fe   \n",
       "4  CRSKAM08                 NaN  000630a0-dd75-41ce-a3e5-9f1f405b0d52   \n",
       "\n",
       "                      geometry  \n",
       "0    POINT (7.427875 5.791705)  \n",
       "1  POINT (11.201295 8.6027067)  \n",
       "2  POINT (8.7514679 5.9388942)  \n",
       "3  POINT (4.2576267 7.7770233)  \n",
       "4  POINT (8.5295567 5.0979367)  "
      ]
     },
     "execution_count": 2,
     "metadata": {},
     "output_type": "execute_result"
    }
   ],
   "source": [
    "farmland.head()"
   ]
  },
  {
   "cell_type": "code",
   "execution_count": 3,
   "id": "8f30d81f-ab99-41b0-a993-39451827e271",
   "metadata": {},
   "outputs": [
    {
     "name": "stdout",
     "output_type": "stream",
     "text": [
      "<class 'pandas.core.frame.DataFrame'>\n",
      "RangeIndex: 44334 entries, 0 to 44333\n",
      "Data columns (total 12 columns):\n",
      " #   Column               Non-Null Count  Dtype \n",
      "---  ------               --------------  ----- \n",
      " 0   Unnamed: 0           44334 non-null  int64 \n",
      " 1   id                   44334 non-null  object\n",
      " 2   state_code           43927 non-null  object\n",
      " 3   source               44334 non-null  object\n",
      " 4   name                 44334 non-null  object\n",
      " 5   type                 39059 non-null  object\n",
      " 6   power_source         33 non-null     object\n",
      " 7   category             44334 non-null  object\n",
      " 8   ward_code            44334 non-null  object\n",
      " 9   processing_facility  2003 non-null   object\n",
      " 10  global_id            44334 non-null  object\n",
      " 11  geometry             44334 non-null  object\n",
      "dtypes: int64(1), object(11)\n",
      "memory usage: 4.1+ MB\n",
      "None\n"
     ]
    },
    {
     "data": {
      "text/html": [
       "<div>\n",
       "<style scoped>\n",
       "    .dataframe tbody tr th:only-of-type {\n",
       "        vertical-align: middle;\n",
       "    }\n",
       "\n",
       "    .dataframe tbody tr th {\n",
       "        vertical-align: top;\n",
       "    }\n",
       "\n",
       "    .dataframe thead th {\n",
       "        text-align: right;\n",
       "    }\n",
       "</style>\n",
       "<table border=\"1\" class=\"dataframe\">\n",
       "  <thead>\n",
       "    <tr style=\"text-align: right;\">\n",
       "      <th></th>\n",
       "      <th>Unnamed: 0</th>\n",
       "      <th>id</th>\n",
       "      <th>state_code</th>\n",
       "      <th>source</th>\n",
       "      <th>name</th>\n",
       "      <th>type</th>\n",
       "      <th>power_source</th>\n",
       "      <th>category</th>\n",
       "      <th>ward_code</th>\n",
       "      <th>processing_facility</th>\n",
       "      <th>global_id</th>\n",
       "      <th>geometry</th>\n",
       "    </tr>\n",
       "  </thead>\n",
       "  <tbody>\n",
       "    <tr>\n",
       "      <th>0</th>\n",
       "      <td>0</td>\n",
       "      <td>u_fc_poi_farm.1</td>\n",
       "      <td>AB</td>\n",
       "      <td>GRID</td>\n",
       "      <td>Bubondu Farm</td>\n",
       "      <td>Commercial</td>\n",
       "      <td>NaN</td>\n",
       "      <td>Mixed Farm</td>\n",
       "      <td>ABSMBL11</td>\n",
       "      <td>NaN</td>\n",
       "      <td>00019378-65ed-41bb-8761-8aa2d8d82072</td>\n",
       "      <td>POINT (7.427875 5.791705)</td>\n",
       "    </tr>\n",
       "    <tr>\n",
       "      <th>1</th>\n",
       "      <td>1</td>\n",
       "      <td>u_fc_poi_farm.2</td>\n",
       "      <td>TA</td>\n",
       "      <td>GRID</td>\n",
       "      <td>Community Farm 2579</td>\n",
       "      <td>Subsistence</td>\n",
       "      <td>NaN</td>\n",
       "      <td>Crop Farm</td>\n",
       "      <td>TRSARD07</td>\n",
       "      <td>NaN</td>\n",
       "      <td>000225c0-3a8c-49ea-b0f7-9324023df2a9</td>\n",
       "      <td>POINT (11.201295 8.6027067)</td>\n",
       "    </tr>\n",
       "    <tr>\n",
       "      <th>2</th>\n",
       "      <td>2</td>\n",
       "      <td>u_fc_poi_farm.3</td>\n",
       "      <td>CR</td>\n",
       "      <td>GRID</td>\n",
       "      <td>Cassava Farm 22</td>\n",
       "      <td>Both</td>\n",
       "      <td>NaN</td>\n",
       "      <td>Unknown</td>\n",
       "      <td>CRSKMM03</td>\n",
       "      <td>NaN</td>\n",
       "      <td>0002da4c-9f53-40ee-bf40-ec064c4dbfd9</td>\n",
       "      <td>POINT (8.7514679 5.9388942)</td>\n",
       "    </tr>\n",
       "    <tr>\n",
       "      <th>3</th>\n",
       "      <td>3</td>\n",
       "      <td>u_fc_poi_farm.4</td>\n",
       "      <td>OS</td>\n",
       "      <td>GRID</td>\n",
       "      <td>Alajagba Palm Oil Plantation Farm</td>\n",
       "      <td>Commercial</td>\n",
       "      <td>NaN</td>\n",
       "      <td>Crop Farm</td>\n",
       "      <td>OSSOUA01</td>\n",
       "      <td>NaN</td>\n",
       "      <td>0005c193-a1a2-472f-b996-896a710373fe</td>\n",
       "      <td>POINT (4.2576267 7.7770233)</td>\n",
       "    </tr>\n",
       "    <tr>\n",
       "      <th>4</th>\n",
       "      <td>4</td>\n",
       "      <td>u_fc_poi_farm.5</td>\n",
       "      <td>CR</td>\n",
       "      <td>GRID</td>\n",
       "      <td>Ojuk Rubber Estate</td>\n",
       "      <td>Commercial</td>\n",
       "      <td>NaN</td>\n",
       "      <td>Crop Farm</td>\n",
       "      <td>CRSKAM08</td>\n",
       "      <td>NaN</td>\n",
       "      <td>000630a0-dd75-41ce-a3e5-9f1f405b0d52</td>\n",
       "      <td>POINT (8.5295567 5.0979367)</td>\n",
       "    </tr>\n",
       "  </tbody>\n",
       "</table>\n",
       "</div>"
      ],
      "text/plain": [
       "   Unnamed: 0               id state_code source  \\\n",
       "0           0  u_fc_poi_farm.1         AB   GRID   \n",
       "1           1  u_fc_poi_farm.2         TA   GRID   \n",
       "2           2  u_fc_poi_farm.3         CR   GRID   \n",
       "3           3  u_fc_poi_farm.4         OS   GRID   \n",
       "4           4  u_fc_poi_farm.5         CR   GRID   \n",
       "\n",
       "                                name         type power_source    category  \\\n",
       "0                       Bubondu Farm   Commercial          NaN  Mixed Farm   \n",
       "1                Community Farm 2579  Subsistence          NaN   Crop Farm   \n",
       "2                    Cassava Farm 22         Both          NaN     Unknown   \n",
       "3  Alajagba Palm Oil Plantation Farm   Commercial          NaN   Crop Farm   \n",
       "4                 Ojuk Rubber Estate   Commercial          NaN   Crop Farm   \n",
       "\n",
       "  ward_code processing_facility                             global_id  \\\n",
       "0  ABSMBL11                 NaN  00019378-65ed-41bb-8761-8aa2d8d82072   \n",
       "1  TRSARD07                 NaN  000225c0-3a8c-49ea-b0f7-9324023df2a9   \n",
       "2  CRSKMM03                 NaN  0002da4c-9f53-40ee-bf40-ec064c4dbfd9   \n",
       "3  OSSOUA01                 NaN  0005c193-a1a2-472f-b996-896a710373fe   \n",
       "4  CRSKAM08                 NaN  000630a0-dd75-41ce-a3e5-9f1f405b0d52   \n",
       "\n",
       "                      geometry  \n",
       "0    POINT (7.427875 5.791705)  \n",
       "1  POINT (11.201295 8.6027067)  \n",
       "2  POINT (8.7514679 5.9388942)  \n",
       "3  POINT (4.2576267 7.7770233)  \n",
       "4  POINT (8.5295567 5.0979367)  "
      ]
     },
     "execution_count": 3,
     "metadata": {},
     "output_type": "execute_result"
    }
   ],
   "source": [
    "print(farmland.info())\n",
    "\n",
    "farmland.head()"
   ]
  },
  {
   "cell_type": "markdown",
   "id": "355bac14-2062-4876-9dac-097856afe522",
   "metadata": {},
   "source": [
    "Question 1 - What is the most common source of electricity for farmers?\n",
    "According to the data, we have just one source of electricty for farmers across Nigeria which is from the GRID"
   ]
  },
  {
   "cell_type": "code",
   "execution_count": 4,
   "id": "59cabd5d-7caa-49c4-8a28-1d01fe7c3232",
   "metadata": {},
   "outputs": [
    {
     "data": {
      "text/plain": [
       "GRID    44334\n",
       "Name: source, dtype: int64"
      ]
     },
     "execution_count": 4,
     "metadata": {},
     "output_type": "execute_result"
    }
   ],
   "source": [
    "# getting the categories for the source of electricity\n",
    "\n",
    "farmland[\"source\"].value_counts()"
   ]
  },
  {
   "cell_type": "markdown",
   "id": "1a6e3d0f-7c6e-4cbd-b6d8-8dfb48e8b4dc",
   "metadata": {},
   "source": [
    "Question 2 - Which type of agriculture is mostly practiced by farmers in Nigeria?\n",
    "From the data, it is seen that 46.6% of the farmers practiced both commercial and subsistence farming, 35.5% practiced commercial farming while only 18% practiced subsistence farming."
   ]
  },
  {
   "cell_type": "code",
   "execution_count": 5,
   "id": "5617a4de-4205-48bc-a683-8910c98a4f1b",
   "metadata": {},
   "outputs": [
    {
     "name": "stdout",
     "output_type": "stream",
     "text": [
      "Both           46.6\n",
      "Commercial     35.4\n",
      "Subsistence    18.0\n",
      "Name: type, dtype: float64\n"
     ]
    }
   ],
   "source": [
    "## getting the frequencies of agriculture type\n",
    "\n",
    "counts = farmland[\"type\"].value_counts(normalize=True) \n",
    "percentage = round(counts*100, 1)\n",
    "\n",
    "print(percentage)"
   ]
  },
  {
   "cell_type": "code",
   "execution_count": 6,
   "id": "5df73e18-6334-4e45-8c56-52762e485565",
   "metadata": {},
   "outputs": [
    {
     "name": "stdout",
     "output_type": "stream",
     "text": [
      "u_fc_poi_farm.1        1\n",
      "u_fc_poi_farm.29559    1\n",
      "u_fc_poi_farm.29551    1\n",
      "u_fc_poi_farm.29552    1\n",
      "u_fc_poi_farm.29553    1\n",
      "                      ..\n",
      "u_fc_poi_farm.14780    1\n",
      "u_fc_poi_farm.14781    1\n",
      "u_fc_poi_farm.14782    1\n",
      "u_fc_poi_farm.14783    1\n",
      "u_fc_poi_farm.44334    1\n",
      "Name: id, Length: 44334, dtype: int64\n"
     ]
    }
   ],
   "source": [
    "# Calculate the total number of farms\n",
    "total_farms = farmland['id'].value_counts()\n",
    "print(total_farms)"
   ]
  },
  {
   "cell_type": "code",
   "execution_count": 29,
   "id": "3577c35e-0bf6-46ea-8252-43ed51c8d843",
   "metadata": {},
   "outputs": [
    {
     "data": {
      "text/html": [
       "<div>\n",
       "<style scoped>\n",
       "    .dataframe tbody tr th:only-of-type {\n",
       "        vertical-align: middle;\n",
       "    }\n",
       "\n",
       "    .dataframe tbody tr th {\n",
       "        vertical-align: top;\n",
       "    }\n",
       "\n",
       "    .dataframe thead th {\n",
       "        text-align: right;\n",
       "    }\n",
       "</style>\n",
       "<table border=\"1\" class=\"dataframe\">\n",
       "  <thead>\n",
       "    <tr style=\"text-align: right;\">\n",
       "      <th></th>\n",
       "      <th>index</th>\n",
       "      <th>type</th>\n",
       "    </tr>\n",
       "  </thead>\n",
       "  <tbody>\n",
       "    <tr>\n",
       "      <th>0</th>\n",
       "      <td>Both</td>\n",
       "      <td>18183</td>\n",
       "    </tr>\n",
       "    <tr>\n",
       "      <th>1</th>\n",
       "      <td>Commercial</td>\n",
       "      <td>13840</td>\n",
       "    </tr>\n",
       "    <tr>\n",
       "      <th>2</th>\n",
       "      <td>Subsistence</td>\n",
       "      <td>7036</td>\n",
       "    </tr>\n",
       "  </tbody>\n",
       "</table>\n",
       "</div>"
      ],
      "text/plain": [
       "         index   type\n",
       "0         Both  18183\n",
       "1   Commercial  13840\n",
       "2  Subsistence   7036"
      ]
     },
     "execution_count": 29,
     "metadata": {},
     "output_type": "execute_result"
    }
   ],
   "source": [
    "# Display the distribution of farm types\n",
    "farm_type_distribution = farmland['type'].value_counts().reset_index()\n",
    "\n",
    "# Print the result\n",
    "farm_type_distribution"
   ]
  },
  {
   "cell_type": "code",
   "execution_count": 21,
   "id": "4af6492b",
   "metadata": {},
   "outputs": [
    {
     "data": {
      "application/vnd.plotly.v1+json": {
       "config": {
        "plotlyServerURL": "https://plot.ly"
       },
       "data": [
        {
         "alignmentgroup": "True",
         "hovertemplate": "<b>Farm Type</b>=%{x}<br><b>Counts</b>=%{y}<extra></extra>",
         "legendgroup": "",
         "marker": {
          "color": "#636efa",
          "pattern": {
           "shape": ""
          }
         },
         "name": "",
         "offsetgroup": "",
         "orientation": "v",
         "showlegend": false,
         "textposition": "auto",
         "type": "bar",
         "x": [
          "Both",
          "Commercial",
          "Subsistence"
         ],
         "xaxis": "x",
         "y": [
          18183,
          13840,
          7036
         ],
         "yaxis": "y"
        }
       ],
       "layout": {
        "barmode": "relative",
        "legend": {
         "tracegroupgap": 0
        },
        "template": {
         "data": {
          "bar": [
           {
            "error_x": {
             "color": "#2a3f5f"
            },
            "error_y": {
             "color": "#2a3f5f"
            },
            "marker": {
             "line": {
              "color": "#E5ECF6",
              "width": 0.5
             },
             "pattern": {
              "fillmode": "overlay",
              "size": 10,
              "solidity": 0.2
             }
            },
            "type": "bar"
           }
          ],
          "barpolar": [
           {
            "marker": {
             "line": {
              "color": "#E5ECF6",
              "width": 0.5
             },
             "pattern": {
              "fillmode": "overlay",
              "size": 10,
              "solidity": 0.2
             }
            },
            "type": "barpolar"
           }
          ],
          "carpet": [
           {
            "aaxis": {
             "endlinecolor": "#2a3f5f",
             "gridcolor": "white",
             "linecolor": "white",
             "minorgridcolor": "white",
             "startlinecolor": "#2a3f5f"
            },
            "baxis": {
             "endlinecolor": "#2a3f5f",
             "gridcolor": "white",
             "linecolor": "white",
             "minorgridcolor": "white",
             "startlinecolor": "#2a3f5f"
            },
            "type": "carpet"
           }
          ],
          "choropleth": [
           {
            "colorbar": {
             "outlinewidth": 0,
             "ticks": ""
            },
            "type": "choropleth"
           }
          ],
          "contour": [
           {
            "colorbar": {
             "outlinewidth": 0,
             "ticks": ""
            },
            "colorscale": [
             [
              0,
              "#0d0887"
             ],
             [
              0.1111111111111111,
              "#46039f"
             ],
             [
              0.2222222222222222,
              "#7201a8"
             ],
             [
              0.3333333333333333,
              "#9c179e"
             ],
             [
              0.4444444444444444,
              "#bd3786"
             ],
             [
              0.5555555555555556,
              "#d8576b"
             ],
             [
              0.6666666666666666,
              "#ed7953"
             ],
             [
              0.7777777777777778,
              "#fb9f3a"
             ],
             [
              0.8888888888888888,
              "#fdca26"
             ],
             [
              1,
              "#f0f921"
             ]
            ],
            "type": "contour"
           }
          ],
          "contourcarpet": [
           {
            "colorbar": {
             "outlinewidth": 0,
             "ticks": ""
            },
            "type": "contourcarpet"
           }
          ],
          "heatmap": [
           {
            "colorbar": {
             "outlinewidth": 0,
             "ticks": ""
            },
            "colorscale": [
             [
              0,
              "#0d0887"
             ],
             [
              0.1111111111111111,
              "#46039f"
             ],
             [
              0.2222222222222222,
              "#7201a8"
             ],
             [
              0.3333333333333333,
              "#9c179e"
             ],
             [
              0.4444444444444444,
              "#bd3786"
             ],
             [
              0.5555555555555556,
              "#d8576b"
             ],
             [
              0.6666666666666666,
              "#ed7953"
             ],
             [
              0.7777777777777778,
              "#fb9f3a"
             ],
             [
              0.8888888888888888,
              "#fdca26"
             ],
             [
              1,
              "#f0f921"
             ]
            ],
            "type": "heatmap"
           }
          ],
          "heatmapgl": [
           {
            "colorbar": {
             "outlinewidth": 0,
             "ticks": ""
            },
            "colorscale": [
             [
              0,
              "#0d0887"
             ],
             [
              0.1111111111111111,
              "#46039f"
             ],
             [
              0.2222222222222222,
              "#7201a8"
             ],
             [
              0.3333333333333333,
              "#9c179e"
             ],
             [
              0.4444444444444444,
              "#bd3786"
             ],
             [
              0.5555555555555556,
              "#d8576b"
             ],
             [
              0.6666666666666666,
              "#ed7953"
             ],
             [
              0.7777777777777778,
              "#fb9f3a"
             ],
             [
              0.8888888888888888,
              "#fdca26"
             ],
             [
              1,
              "#f0f921"
             ]
            ],
            "type": "heatmapgl"
           }
          ],
          "histogram": [
           {
            "marker": {
             "pattern": {
              "fillmode": "overlay",
              "size": 10,
              "solidity": 0.2
             }
            },
            "type": "histogram"
           }
          ],
          "histogram2d": [
           {
            "colorbar": {
             "outlinewidth": 0,
             "ticks": ""
            },
            "colorscale": [
             [
              0,
              "#0d0887"
             ],
             [
              0.1111111111111111,
              "#46039f"
             ],
             [
              0.2222222222222222,
              "#7201a8"
             ],
             [
              0.3333333333333333,
              "#9c179e"
             ],
             [
              0.4444444444444444,
              "#bd3786"
             ],
             [
              0.5555555555555556,
              "#d8576b"
             ],
             [
              0.6666666666666666,
              "#ed7953"
             ],
             [
              0.7777777777777778,
              "#fb9f3a"
             ],
             [
              0.8888888888888888,
              "#fdca26"
             ],
             [
              1,
              "#f0f921"
             ]
            ],
            "type": "histogram2d"
           }
          ],
          "histogram2dcontour": [
           {
            "colorbar": {
             "outlinewidth": 0,
             "ticks": ""
            },
            "colorscale": [
             [
              0,
              "#0d0887"
             ],
             [
              0.1111111111111111,
              "#46039f"
             ],
             [
              0.2222222222222222,
              "#7201a8"
             ],
             [
              0.3333333333333333,
              "#9c179e"
             ],
             [
              0.4444444444444444,
              "#bd3786"
             ],
             [
              0.5555555555555556,
              "#d8576b"
             ],
             [
              0.6666666666666666,
              "#ed7953"
             ],
             [
              0.7777777777777778,
              "#fb9f3a"
             ],
             [
              0.8888888888888888,
              "#fdca26"
             ],
             [
              1,
              "#f0f921"
             ]
            ],
            "type": "histogram2dcontour"
           }
          ],
          "mesh3d": [
           {
            "colorbar": {
             "outlinewidth": 0,
             "ticks": ""
            },
            "type": "mesh3d"
           }
          ],
          "parcoords": [
           {
            "line": {
             "colorbar": {
              "outlinewidth": 0,
              "ticks": ""
             }
            },
            "type": "parcoords"
           }
          ],
          "pie": [
           {
            "automargin": true,
            "type": "pie"
           }
          ],
          "scatter": [
           {
            "fillpattern": {
             "fillmode": "overlay",
             "size": 10,
             "solidity": 0.2
            },
            "type": "scatter"
           }
          ],
          "scatter3d": [
           {
            "line": {
             "colorbar": {
              "outlinewidth": 0,
              "ticks": ""
             }
            },
            "marker": {
             "colorbar": {
              "outlinewidth": 0,
              "ticks": ""
             }
            },
            "type": "scatter3d"
           }
          ],
          "scattercarpet": [
           {
            "marker": {
             "colorbar": {
              "outlinewidth": 0,
              "ticks": ""
             }
            },
            "type": "scattercarpet"
           }
          ],
          "scattergeo": [
           {
            "marker": {
             "colorbar": {
              "outlinewidth": 0,
              "ticks": ""
             }
            },
            "type": "scattergeo"
           }
          ],
          "scattergl": [
           {
            "marker": {
             "colorbar": {
              "outlinewidth": 0,
              "ticks": ""
             }
            },
            "type": "scattergl"
           }
          ],
          "scattermapbox": [
           {
            "marker": {
             "colorbar": {
              "outlinewidth": 0,
              "ticks": ""
             }
            },
            "type": "scattermapbox"
           }
          ],
          "scatterpolar": [
           {
            "marker": {
             "colorbar": {
              "outlinewidth": 0,
              "ticks": ""
             }
            },
            "type": "scatterpolar"
           }
          ],
          "scatterpolargl": [
           {
            "marker": {
             "colorbar": {
              "outlinewidth": 0,
              "ticks": ""
             }
            },
            "type": "scatterpolargl"
           }
          ],
          "scatterternary": [
           {
            "marker": {
             "colorbar": {
              "outlinewidth": 0,
              "ticks": ""
             }
            },
            "type": "scatterternary"
           }
          ],
          "surface": [
           {
            "colorbar": {
             "outlinewidth": 0,
             "ticks": ""
            },
            "colorscale": [
             [
              0,
              "#0d0887"
             ],
             [
              0.1111111111111111,
              "#46039f"
             ],
             [
              0.2222222222222222,
              "#7201a8"
             ],
             [
              0.3333333333333333,
              "#9c179e"
             ],
             [
              0.4444444444444444,
              "#bd3786"
             ],
             [
              0.5555555555555556,
              "#d8576b"
             ],
             [
              0.6666666666666666,
              "#ed7953"
             ],
             [
              0.7777777777777778,
              "#fb9f3a"
             ],
             [
              0.8888888888888888,
              "#fdca26"
             ],
             [
              1,
              "#f0f921"
             ]
            ],
            "type": "surface"
           }
          ],
          "table": [
           {
            "cells": {
             "fill": {
              "color": "#EBF0F8"
             },
             "line": {
              "color": "white"
             }
            },
            "header": {
             "fill": {
              "color": "#C8D4E3"
             },
             "line": {
              "color": "white"
             }
            },
            "type": "table"
           }
          ]
         },
         "layout": {
          "annotationdefaults": {
           "arrowcolor": "#2a3f5f",
           "arrowhead": 0,
           "arrowwidth": 1
          },
          "autotypenumbers": "strict",
          "coloraxis": {
           "colorbar": {
            "outlinewidth": 0,
            "ticks": ""
           }
          },
          "colorscale": {
           "diverging": [
            [
             0,
             "#8e0152"
            ],
            [
             0.1,
             "#c51b7d"
            ],
            [
             0.2,
             "#de77ae"
            ],
            [
             0.3,
             "#f1b6da"
            ],
            [
             0.4,
             "#fde0ef"
            ],
            [
             0.5,
             "#f7f7f7"
            ],
            [
             0.6,
             "#e6f5d0"
            ],
            [
             0.7,
             "#b8e186"
            ],
            [
             0.8,
             "#7fbc41"
            ],
            [
             0.9,
             "#4d9221"
            ],
            [
             1,
             "#276419"
            ]
           ],
           "sequential": [
            [
             0,
             "#0d0887"
            ],
            [
             0.1111111111111111,
             "#46039f"
            ],
            [
             0.2222222222222222,
             "#7201a8"
            ],
            [
             0.3333333333333333,
             "#9c179e"
            ],
            [
             0.4444444444444444,
             "#bd3786"
            ],
            [
             0.5555555555555556,
             "#d8576b"
            ],
            [
             0.6666666666666666,
             "#ed7953"
            ],
            [
             0.7777777777777778,
             "#fb9f3a"
            ],
            [
             0.8888888888888888,
             "#fdca26"
            ],
            [
             1,
             "#f0f921"
            ]
           ],
           "sequentialminus": [
            [
             0,
             "#0d0887"
            ],
            [
             0.1111111111111111,
             "#46039f"
            ],
            [
             0.2222222222222222,
             "#7201a8"
            ],
            [
             0.3333333333333333,
             "#9c179e"
            ],
            [
             0.4444444444444444,
             "#bd3786"
            ],
            [
             0.5555555555555556,
             "#d8576b"
            ],
            [
             0.6666666666666666,
             "#ed7953"
            ],
            [
             0.7777777777777778,
             "#fb9f3a"
            ],
            [
             0.8888888888888888,
             "#fdca26"
            ],
            [
             1,
             "#f0f921"
            ]
           ]
          },
          "colorway": [
           "#636efa",
           "#EF553B",
           "#00cc96",
           "#ab63fa",
           "#FFA15A",
           "#19d3f3",
           "#FF6692",
           "#B6E880",
           "#FF97FF",
           "#FECB52"
          ],
          "font": {
           "color": "#2a3f5f"
          },
          "geo": {
           "bgcolor": "white",
           "lakecolor": "white",
           "landcolor": "#E5ECF6",
           "showlakes": true,
           "showland": true,
           "subunitcolor": "white"
          },
          "hoverlabel": {
           "align": "left"
          },
          "hovermode": "closest",
          "mapbox": {
           "style": "light"
          },
          "paper_bgcolor": "white",
          "plot_bgcolor": "#E5ECF6",
          "polar": {
           "angularaxis": {
            "gridcolor": "white",
            "linecolor": "white",
            "ticks": ""
           },
           "bgcolor": "#E5ECF6",
           "radialaxis": {
            "gridcolor": "white",
            "linecolor": "white",
            "ticks": ""
           }
          },
          "scene": {
           "xaxis": {
            "backgroundcolor": "#E5ECF6",
            "gridcolor": "white",
            "gridwidth": 2,
            "linecolor": "white",
            "showbackground": true,
            "ticks": "",
            "zerolinecolor": "white"
           },
           "yaxis": {
            "backgroundcolor": "#E5ECF6",
            "gridcolor": "white",
            "gridwidth": 2,
            "linecolor": "white",
            "showbackground": true,
            "ticks": "",
            "zerolinecolor": "white"
           },
           "zaxis": {
            "backgroundcolor": "#E5ECF6",
            "gridcolor": "white",
            "gridwidth": 2,
            "linecolor": "white",
            "showbackground": true,
            "ticks": "",
            "zerolinecolor": "white"
           }
          },
          "shapedefaults": {
           "line": {
            "color": "#2a3f5f"
           }
          },
          "ternary": {
           "aaxis": {
            "gridcolor": "white",
            "linecolor": "white",
            "ticks": ""
           },
           "baxis": {
            "gridcolor": "white",
            "linecolor": "white",
            "ticks": ""
           },
           "bgcolor": "#E5ECF6",
           "caxis": {
            "gridcolor": "white",
            "linecolor": "white",
            "ticks": ""
           }
          },
          "title": {
           "x": 0.05
          },
          "xaxis": {
           "automargin": true,
           "gridcolor": "white",
           "linecolor": "white",
           "ticks": "",
           "title": {
            "standoff": 15
           },
           "zerolinecolor": "white",
           "zerolinewidth": 2
          },
          "yaxis": {
           "automargin": true,
           "gridcolor": "white",
           "linecolor": "white",
           "ticks": "",
           "title": {
            "standoff": 15
           },
           "zerolinecolor": "white",
           "zerolinewidth": 2
          }
         }
        },
        "title": {
         "text": "<b>Distribution of Farm Types</b>"
        },
        "width": 700,
        "xaxis": {
         "anchor": "y",
         "domain": [
          0,
          1
         ],
         "title": {
          "text": "<b>Farm Type</b>"
         }
        },
        "yaxis": {
         "anchor": "x",
         "domain": [
          0,
          1
         ],
         "title": {
          "text": "<b>Counts</b>"
         }
        }
       }
      }
     },
     "metadata": {},
     "output_type": "display_data"
    }
   ],
   "source": [
    "fig1 = px.bar(farm_type_distribution, 'index', 'type', text_auto=True,\n",
    "        labels={'index': '<b>Farm Type</b>', 'type':'<b>Counts</b>'},\n",
    "        title='<b>Distribution of Farm Types</b>', width=700)\n",
    "fig1.show()"
   ]
  },
  {
   "cell_type": "markdown",
   "id": "f949ff61",
   "metadata": {},
   "source": [
    "Question 3- Which farm category serves as the primary focus for agricultural processes? From the data, it shows that Crop Farm was practiced more among farmers and Unknown farm category was practiced the least among farmers."
   ]
  },
  {
   "cell_type": "code",
   "execution_count": 23,
   "id": "1bc730f9",
   "metadata": {},
   "outputs": [
    {
     "data": {
      "text/html": [
       "<div>\n",
       "<style scoped>\n",
       "    .dataframe tbody tr th:only-of-type {\n",
       "        vertical-align: middle;\n",
       "    }\n",
       "\n",
       "    .dataframe tbody tr th {\n",
       "        vertical-align: top;\n",
       "    }\n",
       "\n",
       "    .dataframe thead th {\n",
       "        text-align: right;\n",
       "    }\n",
       "</style>\n",
       "<table border=\"1\" class=\"dataframe\">\n",
       "  <thead>\n",
       "    <tr style=\"text-align: right;\">\n",
       "      <th></th>\n",
       "      <th>index</th>\n",
       "      <th>counts</th>\n",
       "    </tr>\n",
       "  </thead>\n",
       "  <tbody>\n",
       "    <tr>\n",
       "      <th>0</th>\n",
       "      <td>Crop Farm</td>\n",
       "      <td>33555</td>\n",
       "    </tr>\n",
       "    <tr>\n",
       "      <th>1</th>\n",
       "      <td>Mixed Farm</td>\n",
       "      <td>6901</td>\n",
       "    </tr>\n",
       "    <tr>\n",
       "      <th>2</th>\n",
       "      <td>Animal Farm</td>\n",
       "      <td>2432</td>\n",
       "    </tr>\n",
       "    <tr>\n",
       "      <th>3</th>\n",
       "      <td>Unknown</td>\n",
       "      <td>1446</td>\n",
       "    </tr>\n",
       "  </tbody>\n",
       "</table>\n",
       "</div>"
      ],
      "text/plain": [
       "         index  counts\n",
       "0    Crop Farm   33555\n",
       "1   Mixed Farm    6901\n",
       "2  Animal Farm    2432\n",
       "3      Unknown    1446"
      ]
     },
     "execution_count": 23,
     "metadata": {},
     "output_type": "execute_result"
    }
   ],
   "source": [
    "# Calculate the farm categories\n",
    "farms_by_category = farmland['category'].value_counts().reset_index(name='counts')\n",
    "farms_by_category"
   ]
  },
  {
   "cell_type": "code",
   "execution_count": 27,
   "id": "48c9bf2c",
   "metadata": {},
   "outputs": [
    {
     "data": {
      "application/vnd.plotly.v1+json": {
       "config": {
        "plotlyServerURL": "https://plot.ly"
       },
       "data": [
        {
         "domain": {
          "x": [
           0,
           1
          ],
          "y": [
           0,
           1
          ]
         },
         "hovertemplate": "index=%{label}<br>counts=%{value}<extra></extra>",
         "labels": [
          "Crop Farm",
          "Mixed Farm",
          "Animal Farm",
          "Unknown"
         ],
         "legendgroup": "",
         "name": "",
         "showlegend": true,
         "type": "pie",
         "values": [
          33555,
          6901,
          2432,
          1446
         ]
        }
       ],
       "layout": {
        "legend": {
         "tracegroupgap": 0
        },
        "template": {
         "data": {
          "bar": [
           {
            "error_x": {
             "color": "#2a3f5f"
            },
            "error_y": {
             "color": "#2a3f5f"
            },
            "marker": {
             "line": {
              "color": "#E5ECF6",
              "width": 0.5
             },
             "pattern": {
              "fillmode": "overlay",
              "size": 10,
              "solidity": 0.2
             }
            },
            "type": "bar"
           }
          ],
          "barpolar": [
           {
            "marker": {
             "line": {
              "color": "#E5ECF6",
              "width": 0.5
             },
             "pattern": {
              "fillmode": "overlay",
              "size": 10,
              "solidity": 0.2
             }
            },
            "type": "barpolar"
           }
          ],
          "carpet": [
           {
            "aaxis": {
             "endlinecolor": "#2a3f5f",
             "gridcolor": "white",
             "linecolor": "white",
             "minorgridcolor": "white",
             "startlinecolor": "#2a3f5f"
            },
            "baxis": {
             "endlinecolor": "#2a3f5f",
             "gridcolor": "white",
             "linecolor": "white",
             "minorgridcolor": "white",
             "startlinecolor": "#2a3f5f"
            },
            "type": "carpet"
           }
          ],
          "choropleth": [
           {
            "colorbar": {
             "outlinewidth": 0,
             "ticks": ""
            },
            "type": "choropleth"
           }
          ],
          "contour": [
           {
            "colorbar": {
             "outlinewidth": 0,
             "ticks": ""
            },
            "colorscale": [
             [
              0,
              "#0d0887"
             ],
             [
              0.1111111111111111,
              "#46039f"
             ],
             [
              0.2222222222222222,
              "#7201a8"
             ],
             [
              0.3333333333333333,
              "#9c179e"
             ],
             [
              0.4444444444444444,
              "#bd3786"
             ],
             [
              0.5555555555555556,
              "#d8576b"
             ],
             [
              0.6666666666666666,
              "#ed7953"
             ],
             [
              0.7777777777777778,
              "#fb9f3a"
             ],
             [
              0.8888888888888888,
              "#fdca26"
             ],
             [
              1,
              "#f0f921"
             ]
            ],
            "type": "contour"
           }
          ],
          "contourcarpet": [
           {
            "colorbar": {
             "outlinewidth": 0,
             "ticks": ""
            },
            "type": "contourcarpet"
           }
          ],
          "heatmap": [
           {
            "colorbar": {
             "outlinewidth": 0,
             "ticks": ""
            },
            "colorscale": [
             [
              0,
              "#0d0887"
             ],
             [
              0.1111111111111111,
              "#46039f"
             ],
             [
              0.2222222222222222,
              "#7201a8"
             ],
             [
              0.3333333333333333,
              "#9c179e"
             ],
             [
              0.4444444444444444,
              "#bd3786"
             ],
             [
              0.5555555555555556,
              "#d8576b"
             ],
             [
              0.6666666666666666,
              "#ed7953"
             ],
             [
              0.7777777777777778,
              "#fb9f3a"
             ],
             [
              0.8888888888888888,
              "#fdca26"
             ],
             [
              1,
              "#f0f921"
             ]
            ],
            "type": "heatmap"
           }
          ],
          "heatmapgl": [
           {
            "colorbar": {
             "outlinewidth": 0,
             "ticks": ""
            },
            "colorscale": [
             [
              0,
              "#0d0887"
             ],
             [
              0.1111111111111111,
              "#46039f"
             ],
             [
              0.2222222222222222,
              "#7201a8"
             ],
             [
              0.3333333333333333,
              "#9c179e"
             ],
             [
              0.4444444444444444,
              "#bd3786"
             ],
             [
              0.5555555555555556,
              "#d8576b"
             ],
             [
              0.6666666666666666,
              "#ed7953"
             ],
             [
              0.7777777777777778,
              "#fb9f3a"
             ],
             [
              0.8888888888888888,
              "#fdca26"
             ],
             [
              1,
              "#f0f921"
             ]
            ],
            "type": "heatmapgl"
           }
          ],
          "histogram": [
           {
            "marker": {
             "pattern": {
              "fillmode": "overlay",
              "size": 10,
              "solidity": 0.2
             }
            },
            "type": "histogram"
           }
          ],
          "histogram2d": [
           {
            "colorbar": {
             "outlinewidth": 0,
             "ticks": ""
            },
            "colorscale": [
             [
              0,
              "#0d0887"
             ],
             [
              0.1111111111111111,
              "#46039f"
             ],
             [
              0.2222222222222222,
              "#7201a8"
             ],
             [
              0.3333333333333333,
              "#9c179e"
             ],
             [
              0.4444444444444444,
              "#bd3786"
             ],
             [
              0.5555555555555556,
              "#d8576b"
             ],
             [
              0.6666666666666666,
              "#ed7953"
             ],
             [
              0.7777777777777778,
              "#fb9f3a"
             ],
             [
              0.8888888888888888,
              "#fdca26"
             ],
             [
              1,
              "#f0f921"
             ]
            ],
            "type": "histogram2d"
           }
          ],
          "histogram2dcontour": [
           {
            "colorbar": {
             "outlinewidth": 0,
             "ticks": ""
            },
            "colorscale": [
             [
              0,
              "#0d0887"
             ],
             [
              0.1111111111111111,
              "#46039f"
             ],
             [
              0.2222222222222222,
              "#7201a8"
             ],
             [
              0.3333333333333333,
              "#9c179e"
             ],
             [
              0.4444444444444444,
              "#bd3786"
             ],
             [
              0.5555555555555556,
              "#d8576b"
             ],
             [
              0.6666666666666666,
              "#ed7953"
             ],
             [
              0.7777777777777778,
              "#fb9f3a"
             ],
             [
              0.8888888888888888,
              "#fdca26"
             ],
             [
              1,
              "#f0f921"
             ]
            ],
            "type": "histogram2dcontour"
           }
          ],
          "mesh3d": [
           {
            "colorbar": {
             "outlinewidth": 0,
             "ticks": ""
            },
            "type": "mesh3d"
           }
          ],
          "parcoords": [
           {
            "line": {
             "colorbar": {
              "outlinewidth": 0,
              "ticks": ""
             }
            },
            "type": "parcoords"
           }
          ],
          "pie": [
           {
            "automargin": true,
            "type": "pie"
           }
          ],
          "scatter": [
           {
            "fillpattern": {
             "fillmode": "overlay",
             "size": 10,
             "solidity": 0.2
            },
            "type": "scatter"
           }
          ],
          "scatter3d": [
           {
            "line": {
             "colorbar": {
              "outlinewidth": 0,
              "ticks": ""
             }
            },
            "marker": {
             "colorbar": {
              "outlinewidth": 0,
              "ticks": ""
             }
            },
            "type": "scatter3d"
           }
          ],
          "scattercarpet": [
           {
            "marker": {
             "colorbar": {
              "outlinewidth": 0,
              "ticks": ""
             }
            },
            "type": "scattercarpet"
           }
          ],
          "scattergeo": [
           {
            "marker": {
             "colorbar": {
              "outlinewidth": 0,
              "ticks": ""
             }
            },
            "type": "scattergeo"
           }
          ],
          "scattergl": [
           {
            "marker": {
             "colorbar": {
              "outlinewidth": 0,
              "ticks": ""
             }
            },
            "type": "scattergl"
           }
          ],
          "scattermapbox": [
           {
            "marker": {
             "colorbar": {
              "outlinewidth": 0,
              "ticks": ""
             }
            },
            "type": "scattermapbox"
           }
          ],
          "scatterpolar": [
           {
            "marker": {
             "colorbar": {
              "outlinewidth": 0,
              "ticks": ""
             }
            },
            "type": "scatterpolar"
           }
          ],
          "scatterpolargl": [
           {
            "marker": {
             "colorbar": {
              "outlinewidth": 0,
              "ticks": ""
             }
            },
            "type": "scatterpolargl"
           }
          ],
          "scatterternary": [
           {
            "marker": {
             "colorbar": {
              "outlinewidth": 0,
              "ticks": ""
             }
            },
            "type": "scatterternary"
           }
          ],
          "surface": [
           {
            "colorbar": {
             "outlinewidth": 0,
             "ticks": ""
            },
            "colorscale": [
             [
              0,
              "#0d0887"
             ],
             [
              0.1111111111111111,
              "#46039f"
             ],
             [
              0.2222222222222222,
              "#7201a8"
             ],
             [
              0.3333333333333333,
              "#9c179e"
             ],
             [
              0.4444444444444444,
              "#bd3786"
             ],
             [
              0.5555555555555556,
              "#d8576b"
             ],
             [
              0.6666666666666666,
              "#ed7953"
             ],
             [
              0.7777777777777778,
              "#fb9f3a"
             ],
             [
              0.8888888888888888,
              "#fdca26"
             ],
             [
              1,
              "#f0f921"
             ]
            ],
            "type": "surface"
           }
          ],
          "table": [
           {
            "cells": {
             "fill": {
              "color": "#EBF0F8"
             },
             "line": {
              "color": "white"
             }
            },
            "header": {
             "fill": {
              "color": "#C8D4E3"
             },
             "line": {
              "color": "white"
             }
            },
            "type": "table"
           }
          ]
         },
         "layout": {
          "annotationdefaults": {
           "arrowcolor": "#2a3f5f",
           "arrowhead": 0,
           "arrowwidth": 1
          },
          "autotypenumbers": "strict",
          "coloraxis": {
           "colorbar": {
            "outlinewidth": 0,
            "ticks": ""
           }
          },
          "colorscale": {
           "diverging": [
            [
             0,
             "#8e0152"
            ],
            [
             0.1,
             "#c51b7d"
            ],
            [
             0.2,
             "#de77ae"
            ],
            [
             0.3,
             "#f1b6da"
            ],
            [
             0.4,
             "#fde0ef"
            ],
            [
             0.5,
             "#f7f7f7"
            ],
            [
             0.6,
             "#e6f5d0"
            ],
            [
             0.7,
             "#b8e186"
            ],
            [
             0.8,
             "#7fbc41"
            ],
            [
             0.9,
             "#4d9221"
            ],
            [
             1,
             "#276419"
            ]
           ],
           "sequential": [
            [
             0,
             "#0d0887"
            ],
            [
             0.1111111111111111,
             "#46039f"
            ],
            [
             0.2222222222222222,
             "#7201a8"
            ],
            [
             0.3333333333333333,
             "#9c179e"
            ],
            [
             0.4444444444444444,
             "#bd3786"
            ],
            [
             0.5555555555555556,
             "#d8576b"
            ],
            [
             0.6666666666666666,
             "#ed7953"
            ],
            [
             0.7777777777777778,
             "#fb9f3a"
            ],
            [
             0.8888888888888888,
             "#fdca26"
            ],
            [
             1,
             "#f0f921"
            ]
           ],
           "sequentialminus": [
            [
             0,
             "#0d0887"
            ],
            [
             0.1111111111111111,
             "#46039f"
            ],
            [
             0.2222222222222222,
             "#7201a8"
            ],
            [
             0.3333333333333333,
             "#9c179e"
            ],
            [
             0.4444444444444444,
             "#bd3786"
            ],
            [
             0.5555555555555556,
             "#d8576b"
            ],
            [
             0.6666666666666666,
             "#ed7953"
            ],
            [
             0.7777777777777778,
             "#fb9f3a"
            ],
            [
             0.8888888888888888,
             "#fdca26"
            ],
            [
             1,
             "#f0f921"
            ]
           ]
          },
          "colorway": [
           "#636efa",
           "#EF553B",
           "#00cc96",
           "#ab63fa",
           "#FFA15A",
           "#19d3f3",
           "#FF6692",
           "#B6E880",
           "#FF97FF",
           "#FECB52"
          ],
          "font": {
           "color": "#2a3f5f"
          },
          "geo": {
           "bgcolor": "white",
           "lakecolor": "white",
           "landcolor": "#E5ECF6",
           "showlakes": true,
           "showland": true,
           "subunitcolor": "white"
          },
          "hoverlabel": {
           "align": "left"
          },
          "hovermode": "closest",
          "mapbox": {
           "style": "light"
          },
          "paper_bgcolor": "white",
          "plot_bgcolor": "#E5ECF6",
          "polar": {
           "angularaxis": {
            "gridcolor": "white",
            "linecolor": "white",
            "ticks": ""
           },
           "bgcolor": "#E5ECF6",
           "radialaxis": {
            "gridcolor": "white",
            "linecolor": "white",
            "ticks": ""
           }
          },
          "scene": {
           "xaxis": {
            "backgroundcolor": "#E5ECF6",
            "gridcolor": "white",
            "gridwidth": 2,
            "linecolor": "white",
            "showbackground": true,
            "ticks": "",
            "zerolinecolor": "white"
           },
           "yaxis": {
            "backgroundcolor": "#E5ECF6",
            "gridcolor": "white",
            "gridwidth": 2,
            "linecolor": "white",
            "showbackground": true,
            "ticks": "",
            "zerolinecolor": "white"
           },
           "zaxis": {
            "backgroundcolor": "#E5ECF6",
            "gridcolor": "white",
            "gridwidth": 2,
            "linecolor": "white",
            "showbackground": true,
            "ticks": "",
            "zerolinecolor": "white"
           }
          },
          "shapedefaults": {
           "line": {
            "color": "#2a3f5f"
           }
          },
          "ternary": {
           "aaxis": {
            "gridcolor": "white",
            "linecolor": "white",
            "ticks": ""
           },
           "baxis": {
            "gridcolor": "white",
            "linecolor": "white",
            "ticks": ""
           },
           "bgcolor": "#E5ECF6",
           "caxis": {
            "gridcolor": "white",
            "linecolor": "white",
            "ticks": ""
           }
          },
          "title": {
           "x": 0.05
          },
          "xaxis": {
           "automargin": true,
           "gridcolor": "white",
           "linecolor": "white",
           "ticks": "",
           "title": {
            "standoff": 15
           },
           "zerolinecolor": "white",
           "zerolinewidth": 2
          },
          "yaxis": {
           "automargin": true,
           "gridcolor": "white",
           "linecolor": "white",
           "ticks": "",
           "title": {
            "standoff": 15
           },
           "zerolinecolor": "white",
           "zerolinewidth": 2
          }
         }
        },
        "title": {
         "text": "<b>Distribution of Farm Category</b>"
        }
       }
      }
     },
     "metadata": {},
     "output_type": "display_data"
    }
   ],
   "source": [
    "fig2 = px.pie(farms_by_category, 'index', 'counts', title='<b>Distribution of Farm Category</b>')\n",
    "fig2.show()"
   ]
  },
  {
   "cell_type": "markdown",
   "id": "3c15babd",
   "metadata": {},
   "source": [
    "Question 4- How many farms feature a processing facility, and what percentage of total farms does this represent? Only about 33 Farms had a processing facility representing 0.07% of the total farms in the data"
   ]
  },
  {
   "cell_type": "code",
   "execution_count": null,
   "id": "719eab61-5d7d-47c7-825a-aa6d3fb57d2b",
   "metadata": {},
   "outputs": [
    {
     "name": "stdout",
     "output_type": "stream",
     "text": [
      "Farms with a processing facility: 33\n",
      "Percentage of farms with a processing facility: 0.07%\n",
      "Farms without a processing facility: 1970\n",
      "Percentage of farms without a processing facility: 4.44%\n"
     ]
    }
   ],
   "source": [
    "# Count the number of farms with and without a processing facility\n",
    "farms_with_facility = farmland[farmland['processing_facility'] == True].shape[0]\n",
    "farms_without_facility = farmland[farmland['processing_facility'] == False].shape[0]\n",
    "\n",
    "# Total number of farms in the dataset\n",
    "total_farms = farmland.shape[0]\n",
    "\n",
    "# Calculate the percentages\n",
    "percentage_with_facility = (farms_with_facility / total_farms) * 100\n",
    "percentage_without_facility = (farms_without_facility / total_farms) * 100\n",
    "\n",
    "# Display the results\n",
    "print(f\"Farms with a processing facility: {farms_with_facility}\")\n",
    "print(f\"Percentage of farms with a processing facility: {percentage_with_facility:.2f}%\")\n",
    "\n",
    "print(f\"Farms without a processing facility: {farms_without_facility}\")\n",
    "print(f\"Percentage of farms without a processing facility: {percentage_without_facility:.2f}%\")\n"
   ]
  }
 ],
 "metadata": {
  "kernelspec": {
   "display_name": "Python 3 (ipykernel)",
   "language": "python",
   "name": "python3"
  },
  "language_info": {
   "codemirror_mode": {
    "name": "ipython",
    "version": 3
   },
   "file_extension": ".py",
   "mimetype": "text/x-python",
   "name": "python",
   "nbconvert_exporter": "python",
   "pygments_lexer": "ipython3",
   "version": "3.10.9"
  }
 },
 "nbformat": 4,
 "nbformat_minor": 5
}
